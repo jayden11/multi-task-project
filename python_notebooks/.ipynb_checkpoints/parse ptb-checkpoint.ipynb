{
 "cells": [
  {
   "cell_type": "code",
   "execution_count": 5,
   "metadata": {
    "collapsed": true
   },
   "outputs": [],
   "source": [
    "from nltk.corpus import ptb\n",
    "import os"
   ]
  },
  {
   "cell_type": "code",
   "execution_count": null,
   "metadata": {
    "collapsed": false
   },
   "outputs": [
    {
     "name": "stdout",
     "output_type": "stream",
     "text": [
      "15\n",
      "read sub chapters\n",
      "16\n",
      "read sub chapters\n",
      "17"
     ]
    }
   ],
   "source": [
    "training_data_chapters = ['15', '16', '17', '18']\n",
    "test_data_chapters = ['20']\n",
    "\n",
    "def get_data_from_chapter(chapter):\n",
    "        chapter_data = []\n",
    "        sub_chapters = os.listdir('/Users/jonathangodwin/nltk_data/corpora/ptb/wsj/%s/' % chapter)\n",
    "        print('read sub chapters')\n",
    "        for sub_chapter in sub_chapters:\n",
    "            chapter_data += list(ptb.tagged_words(\n",
    "                    '/Users/jonathangodwin/nltk_data/corpora/ptb/wsj/%s/%s' % (chapter,sub_chapter)))\n",
    "        return chapter_data\n",
    "\n",
    "training_data = []\n",
    "for chapter in training_data_chapters:\n",
    "    print(chapter)\n",
    "    training_data += get_data_from_chapter(chapter)\n",
    "\n",
    "test_data = get_data_from_chapter(test_data_chapters)\n",
    "print(len(training_data))\n",
    "print(len(test_data))"
   ]
  },
  {
   "cell_type": "code",
   "execution_count": 18,
   "metadata": {
    "collapsed": false
   },
   "outputs": [],
   "source": [
    "tokens = [token for token, pos in training_data if pos != '-NONE-']\n",
    "pos = [pos for _, pos in training_data if pos != '-NONE-']"
   ]
  },
  {
   "cell_type": "code",
   "execution_count": 20,
   "metadata": {
    "collapsed": false
   },
   "outputs": [
    {
     "data": {
      "text/plain": [
       "211727"
      ]
     },
     "execution_count": 20,
     "metadata": {},
     "output_type": "execute_result"
    }
   ],
   "source": [
    "len(tokens)\n"
   ]
  },
  {
   "cell_type": "code",
   "execution_count": null,
   "metadata": {
    "collapsed": true
   },
   "outputs": [],
   "source": []
  }
 ],
 "metadata": {
  "kernelspec": {
   "display_name": "Python 3",
   "language": "python",
   "name": "python3"
  },
  "language_info": {
   "codemirror_mode": {
    "name": "ipython",
    "version": 3
   },
   "file_extension": ".py",
   "mimetype": "text/x-python",
   "name": "python",
   "nbconvert_exporter": "python",
   "pygments_lexer": "ipython3",
   "version": "3.5.1"
  }
 },
 "nbformat": 4,
 "nbformat_minor": 0
}
