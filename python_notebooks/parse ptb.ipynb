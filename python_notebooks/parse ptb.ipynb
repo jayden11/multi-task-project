{
 "cells": [
  {
   "cell_type": "code",
   "execution_count": 1,
   "metadata": {
    "collapsed": true
   },
   "outputs": [],
   "source": [
    "from nltk.corpus import ptb\n",
    "import os\n",
    "import numpy as np"
   ]
  },
  {
   "cell_type": "code",
   "execution_count": 2,
   "metadata": {
    "collapsed": false
   },
   "outputs": [
    {
     "name": "stdout",
     "output_type": "stream",
     "text": [
      "15\n",
      "read sub chapters\n",
      "16\n",
      "read sub chapters\n",
      "17\n",
      "read sub chapters\n",
      "18\n",
      "read sub chapters\n",
      "read sub chapters\n",
      "226357\n",
      "50433\n"
     ]
    }
   ],
   "source": [
    "training_data_chapters = ['15', '16', '17', '18']\n",
    "test_data_chapters = ['20']\n",
    "\n",
    "def get_data_from_chapter(chapter):\n",
    "        chapter_data = []\n",
    "        sub_chapters = os.listdir('/Users/jonathangodwin/nltk_data/corpora/ptb/wsj/%s/' % chapter)\n",
    "        print('read sub chapters')\n",
    "        for sub_chapter in sub_chapters:\n",
    "            chapter_data += list(ptb.tagged_words(\n",
    "                    '/Users/jonathangodwin/nltk_data/corpora/ptb/wsj/%s/%s' % (chapter,sub_chapter)))\n",
    "        return chapter_data\n",
    "\n",
    "training_data = []\n",
    "for chapter in training_data_chapters:\n",
    "    print(chapter)\n",
    "    training_data += get_data_from_chapter(chapter)\n",
    "\n",
    "test_data = get_data_from_chapter(test_data_chapters[0])\n",
    "print(len(training_data))\n",
    "print(len(test_data))"
   ]
  },
  {
   "cell_type": "code",
   "execution_count": 3,
   "metadata": {
    "collapsed": false
   },
   "outputs": [],
   "source": [
    "train_tokens = np.array([[token, pos] for token, pos in training_data if pos != '-NONE-'])\n",
    "test_tokens = np.array([[token, pos] for token, pos in test_data if pos != '-NONE-'])\n"
   ]
  },
  {
   "cell_type": "code",
   "execution_count": 4,
   "metadata": {
    "collapsed": false
   },
   "outputs": [
    {
     "name": "stdout",
     "output_type": "stream",
     "text": [
      "47377\n"
     ]
    },
    {
     "data": {
      "text/plain": [
       "211727"
      ]
     },
     "execution_count": 4,
     "metadata": {},
     "output_type": "execute_result"
    }
   ],
   "source": [
    "print(len(test_tokens))\n",
    "len(train_tokens)\n"
   ]
  },
  {
   "cell_type": "code",
   "execution_count": 8,
   "metadata": {
    "collapsed": false
   },
   "outputs": [],
   "source": [
    "import csv\n",
    "train_chunks = []\n",
    "with open('/Users/jonathangodwin/project/data/conll/data/train_val_combined.txt', 'r') as csvfile:\n",
    "    spamreader = csv.reader(csvfile, delimiter=' ')\n",
    "    for row in spamreader:\n",
    "        if len(row) > 0:\n",
    "            train_chunks.append(row[2])\n",
    "test_chunks = []\n",
    "with open('/Users/jonathangodwin/project/data/conll/data/test.txt', 'r') as csvfile:\n",
    "    spamreader = csv.reader(csvfile, delimiter=' ')\n",
    "    for row in spamreader:\n",
    "        if len(row) > 0:\n",
    "            test_chunks.append(row[2])"
   ]
  },
  {
   "cell_type": "code",
   "execution_count": 9,
   "metadata": {
    "collapsed": false
   },
   "outputs": [
    {
     "data": {
      "text/plain": [
       "47377"
      ]
     },
     "execution_count": 9,
     "metadata": {},
     "output_type": "execute_result"
    }
   ],
   "source": [
    "len(train_chunks)\n",
    "len(test_chunks)"
   ]
  },
  {
   "cell_type": "code",
   "execution_count": 22,
   "metadata": {
    "collapsed": false
   },
   "outputs": [],
   "source": [
    "train_val_data_chunk = np.hstack((train_tokens, np.reshape(np.array(train_chunks), (-1, 1))))\n",
    "test_data_chunk = np.hstack((test_tokens, np.reshape(np.array(test_chunks), (-1, 1))))"
   ]
  },
  {
   "cell_type": "code",
   "execution_count": 24,
   "metadata": {
    "collapsed": false
   },
   "outputs": [],
   "source": [
    "train_data = train_val_data_chunk[:169382]\n",
    "val_data = train_val_data_chunk[169382:]\n",
    "\n"
   ]
  },
  {
   "cell_type": "code",
   "execution_count": 29,
   "metadata": {
    "collapsed": false
   },
   "outputs": [],
   "source": [
    "np.savetxt(\"/Users/jonathangodwin/project/data/conll_ptb/data/test.txt\", test_data_chunk, delimiter=\" \", fmt='%s')\n",
    "np.savetxt(\"/Users/jonathangodwin/project/data/conll_ptb/data/test_val_combined.txt\", train_val_data_chunk, delimiter=\" \", fmt='%s')\n",
    "np.savetxt(\"/Users/jonathangodwin/project/data/conll_ptb/data/validation.txt\", val_data, delimiter=\" \", fmt='%s')\n",
    "np.savetxt(\"/Users/jonathangodwin/project/data/conll_ptb/data/train.txt\", train_data, delimiter=\" \", fmt='%s')"
   ]
  },
  {
   "cell_type": "code",
   "execution_count": 30,
   "metadata": {
    "collapsed": true
   },
   "outputs": [],
   "source": [
    "all_combined = np.vstack((train_val_data_chunk, test_data_chunk))"
   ]
  },
  {
   "cell_type": "code",
   "execution_count": 31,
   "metadata": {
    "collapsed": true
   },
   "outputs": [],
   "source": [
    "np.savetxt(\"/Users/jonathangodwin/project/data/conll_ptb/data/all_combined.txt\", all_combined, delimiter=\" \", fmt='%s')"
   ]
  },
  {
   "cell_type": "code",
   "execution_count": null,
   "metadata": {
    "collapsed": true
   },
   "outputs": [],
   "source": []
  }
 ],
 "metadata": {
  "kernelspec": {
   "display_name": "Python 3",
   "language": "python",
   "name": "python3"
  },
  "language_info": {
   "codemirror_mode": {
    "name": "ipython",
    "version": 3
   },
   "file_extension": ".py",
   "mimetype": "text/x-python",
   "name": "python",
   "nbconvert_exporter": "python",
   "pygments_lexer": "ipython3",
   "version": "3.5.1"
  }
 },
 "nbformat": 4,
 "nbformat_minor": 0
}
